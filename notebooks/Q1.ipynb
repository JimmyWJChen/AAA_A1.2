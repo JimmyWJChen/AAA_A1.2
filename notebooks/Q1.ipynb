{
 "cells": [
  {
   "cell_type": "code",
   "execution_count": null,
   "id": "5250615f",
   "metadata": {},
   "outputs": [
    {
     "data": {
      "text/latex": [
       "$\\displaystyle A \\sin{\\left(\\omega t \\right)}$"
      ],
      "text/plain": [
       "A*sin(omega*t)"
      ]
     },
     "metadata": {},
     "output_type": "display_data"
    },
    {
     "data": {
      "text/latex": [
       "$\\displaystyle A \\omega \\cos{\\left(\\omega t \\right)}$"
      ],
      "text/plain": [
       "A*omega*cos(omega*t)"
      ]
     },
     "metadata": {},
     "output_type": "display_data"
    },
    {
     "data": {
      "text/latex": [
       "$\\displaystyle A^{7} K_{h 7} \\sin^{7}{\\left(\\omega t \\right)} + A K_{h} \\sin{\\left(\\omega t \\right)}$"
      ],
      "text/plain": [
       "A**7*K_h_7*sin(omega*t)**7 + A*K_h*sin(omega*t)"
      ]
     },
     "metadata": {},
     "output_type": "display_data"
    },
    {
     "data": {
      "text/latex": [
       "$\\displaystyle 0$"
      ],
      "text/plain": [
       "0"
      ]
     },
     "metadata": {},
     "output_type": "display_data"
    },
    {
     "data": {
      "text/latex": [
       "$\\displaystyle 0$"
      ],
      "text/plain": [
       "0"
      ]
     },
     "metadata": {},
     "output_type": "display_data"
    },
    {
     "data": {
      "text/latex": [
       "$\\displaystyle \\begin{cases} A \\left(\\frac{35 A^{6} K_{h 7}}{64} + K_{h}\\right) & \\text{for}\\: \\left(\\omega > -\\infty \\vee \\omega > 0\\right) \\wedge \\left(\\omega > -\\infty \\vee \\omega < \\infty\\right) \\wedge \\left(\\omega > 0 \\vee \\omega < 0\\right) \\wedge \\left(\\omega < 0 \\vee \\omega < \\infty\\right) \\\\0 & \\text{otherwise} \\end{cases}$"
      ],
      "text/plain": [
       "Piecewise((A*(35*A**6*K_h_7/64 + K_h), ((omega > -oo) | (omega > 0)) & ((omega > -oo) | (omega < oo)) & ((omega > 0) | (omega < 0)) & ((omega < 0) | (omega < oo))), (0, True))"
      ]
     },
     "metadata": {},
     "output_type": "display_data"
    },
    {
     "data": {
      "text/latex": [
       "$\\displaystyle \\begin{cases} A \\left(\\frac{35 A^{6} K_{h 7}}{64} + K_{h}\\right) & \\text{for}\\: \\left(\\omega > -\\infty \\vee \\omega > 0\\right) \\wedge \\left(\\omega > -\\infty \\vee \\omega < \\infty\\right) \\wedge \\left(\\omega > 0 \\vee \\omega < 0\\right) \\wedge \\left(\\omega < 0 \\vee \\omega < \\infty\\right) \\\\0 & \\text{otherwise} \\end{cases}$"
      ],
      "text/plain": [
       "Piecewise((A*(35*A**6*K_h_7/64 + K_h), ((omega > -oo) | (omega > 0)) & ((omega > -oo) | (omega < oo)) & ((omega > 0) | (omega < 0)) & ((omega < 0) | (omega < oo))), (0, True))"
      ]
     },
     "metadata": {},
     "output_type": "display_data"
    },
    {
     "data": {
      "text/latex": [
       "$\\displaystyle 0$"
      ],
      "text/plain": [
       "0"
      ]
     },
     "metadata": {},
     "output_type": "display_data"
    },
    {
     "data": {
      "text/latex": [
       "$\\displaystyle 0$"
      ],
      "text/plain": [
       "0"
      ]
     },
     "metadata": {},
     "output_type": "display_data"
    }
   ],
   "source": [
    "import sympy as sym \n",
    "\n",
    "A = sym.Symbol('A')\n",
    "omega = sym.Symbol('omega')\n",
    "kh = sym.Symbol('K_h')\n",
    "kh7 = sym.Symbol('K_h_7')\n",
    "t = sym.Symbol('t')\n",
    "\n",
    "h = A * sym.sin(omega*t)\n",
    "display(h)\n",
    "hdot = sym.diff(h, t)\n",
    "display(hdot)\n",
    "\n",
    "k = kh * h + kh7 * h**7 \n",
    "display(k)\n",
    "T = 2*sym.pi / omega\n",
    "a0 = omega/(2*sym.pi) * sym.integrate(k, (t, -T/2, T/2))\n",
    "display(a0)\n",
    "a1 = omega/sym.pi * sym.integrate(k*sym.cos(omega*t), (t, -T/2, T/2))\n",
    "display(a1)\n",
    "b1 = omega/sym.pi * sym.integrate(k*sym.sin(omega*t), (t, -T/2, T/2))\n",
    "display(sym.simplify(b1))\n",
    "b1_ = omega/sym.pi * sym.integrate(k*sym.sin(omega*t), (t, -T/2, T/2))\n",
    "display(sym.simplify(b1_))"
   ]
  }
 ],
 "metadata": {
  "kernelspec": {
   "display_name": "Python 3",
   "language": "python",
   "name": "python3"
  },
  "language_info": {
   "codemirror_mode": {
    "name": "ipython",
    "version": 3
   },
   "file_extension": ".py",
   "mimetype": "text/x-python",
   "name": "python",
   "nbconvert_exporter": "python",
   "pygments_lexer": "ipython3",
   "version": "3.10.5"
  }
 },
 "nbformat": 4,
 "nbformat_minor": 5
}
